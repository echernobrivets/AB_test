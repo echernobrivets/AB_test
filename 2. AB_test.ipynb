{
 "cells": [
  {
   "cell_type": "code",
   "execution_count": 1,
   "id": "4314f752-91c6-4f6b-84c6-4eb071edb1f9",
   "metadata": {},
   "outputs": [],
   "source": [
    "import pandas as pd\n",
    "import pandahouse as ph\n",
    "import numpy as np\n",
    "import seaborn as sns\n",
    "import matplotlib as plt\n",
    "from scipy import stats\n",
    "from tqdm import tqdm"
   ]
  },
  {
   "cell_type": "code",
   "execution_count": 2,
   "id": "db4ab927-d001-452c-9dbb-44902a315f2d",
   "metadata": {},
   "outputs": [],
   "source": [
    "# Подключимся к ClickHouse\n",
    "connection = {'host': 'https://clickhouse.lab.karpov.courses',\n",
    "                      'database':'simulator_20221220',\n",
    "                      'user':'student', \n",
    "                      'password':'dpo_python_2020'\n",
    "                     }"
   ]
  },
  {
   "cell_type": "code",
   "execution_count": 3,
   "id": "b167096b-0232-4425-915e-e3e5adff73a9",
   "metadata": {},
   "outputs": [
    {
     "data": {
      "text/html": [
       "<div>\n",
       "<style scoped>\n",
       "    .dataframe tbody tr th:only-of-type {\n",
       "        vertical-align: middle;\n",
       "    }\n",
       "\n",
       "    .dataframe tbody tr th {\n",
       "        vertical-align: top;\n",
       "    }\n",
       "\n",
       "    .dataframe thead th {\n",
       "        text-align: right;\n",
       "    }\n",
       "</style>\n",
       "<table border=\"1\" class=\"dataframe\">\n",
       "  <thead>\n",
       "    <tr style=\"text-align: right;\">\n",
       "      <th></th>\n",
       "      <th>exp_group</th>\n",
       "      <th>user_id</th>\n",
       "      <th>likes</th>\n",
       "      <th>views</th>\n",
       "      <th>ctr</th>\n",
       "    </tr>\n",
       "  </thead>\n",
       "  <tbody>\n",
       "    <tr>\n",
       "      <th>0</th>\n",
       "      <td>1</td>\n",
       "      <td>109963</td>\n",
       "      <td>3</td>\n",
       "      <td>15</td>\n",
       "      <td>0.200000</td>\n",
       "    </tr>\n",
       "    <tr>\n",
       "      <th>1</th>\n",
       "      <td>1</td>\n",
       "      <td>26117</td>\n",
       "      <td>32</td>\n",
       "      <td>141</td>\n",
       "      <td>0.226950</td>\n",
       "    </tr>\n",
       "    <tr>\n",
       "      <th>2</th>\n",
       "      <td>1</td>\n",
       "      <td>138232</td>\n",
       "      <td>18</td>\n",
       "      <td>73</td>\n",
       "      <td>0.246575</td>\n",
       "    </tr>\n",
       "    <tr>\n",
       "      <th>3</th>\n",
       "      <td>1</td>\n",
       "      <td>26295</td>\n",
       "      <td>33</td>\n",
       "      <td>122</td>\n",
       "      <td>0.270492</td>\n",
       "    </tr>\n",
       "    <tr>\n",
       "      <th>4</th>\n",
       "      <td>1</td>\n",
       "      <td>18392</td>\n",
       "      <td>7</td>\n",
       "      <td>32</td>\n",
       "      <td>0.218750</td>\n",
       "    </tr>\n",
       "  </tbody>\n",
       "</table>\n",
       "</div>"
      ],
      "text/plain": [
       "   exp_group  user_id  likes  views       ctr\n",
       "0          1   109963      3     15  0.200000\n",
       "1          1    26117     32    141  0.226950\n",
       "2          1   138232     18     73  0.246575\n",
       "3          1    26295     33    122  0.270492\n",
       "4          1    18392      7     32  0.218750"
      ]
     },
     "execution_count": 3,
     "metadata": {},
     "output_type": "execute_result"
    }
   ],
   "source": [
    "# Выгрузим необходимые данные за период проведения тестирования\n",
    "q = \"\"\"\n",
    "select \n",
    "    exp_group,\n",
    "    user_id,\n",
    "    sum(action = 'like') as likes,\n",
    "    sum(action = 'view') as views,\n",
    "    likes / views as ctr\n",
    "FROM {db}.feed_actions \n",
    "WHERE toDate(time) >= '2022-12-02' and toDate(time) <= '2022-12-08' \n",
    "    and exp_group in (1,2)\n",
    "group by exp_group, user_id    \n",
    "\"\"\"\n",
    "df = ph.read_clickhouse(q, connection=connection)\n",
    "df.head()"
   ]
  },
  {
   "cell_type": "code",
   "execution_count": 4,
   "id": "238edf64-9c1c-4c2d-bc0f-f2a7e7be2abf",
   "metadata": {},
   "outputs": [
    {
     "data": {
      "text/plain": [
       "0"
      ]
     },
     "execution_count": 4,
     "metadata": {},
     "output_type": "execute_result"
    }
   ],
   "source": [
    "# Можно проверить себя, есть ли в наших данных дубликаты пользователей\n",
    "df.user_id.duplicated().sum()"
   ]
  },
  {
   "cell_type": "code",
   "execution_count": 5,
   "id": "ffa546d0-806b-4a48-b8ff-75fa5dadad32",
   "metadata": {},
   "outputs": [
    {
     "data": {
      "text/plain": [
       "<AxesSubplot:xlabel='ctr', ylabel='Count'>"
      ]
     },
     "execution_count": 5,
     "metadata": {},
     "output_type": "execute_result"
    },
    {
     "data": {
      "image/png": "[encoded data removed]",
      "text/plain": [
       "<Figure size 842.4x595.44 with 1 Axes>"
      ]
     },
     "metadata": {},
     "output_type": "display_data"
    }
   ],
   "source": [
    "sns.set(rc={'figure.figsize':(11.7,8.27)})\n",
    "sns.histplot(data = df, \n",
    "              x='ctr', \n",
    "              hue='exp_group', \n",
    "              palette = ['r', 'b'],\n",
    "              alpha=0.5,\n",
    "              kde=False)"
   ]
  },
  {
   "cell_type": "markdown",
   "id": "16f4c1ec-1718-443f-9d23-b20f2c8d6fef",
   "metadata": {},
   "source": [
    "#### Из гистораммы можно заметить, что распределение CTR в группе 2 имеет бимодальный характер, есть подозрение, в данных присутствуют выбросы.\n",
    "#### В группе 1 распределение больше похоже на нормальное (имеет 1 \"горб\")\n",
    "_____________"
   ]
  },
  {
   "cell_type": "markdown",
   "id": "2117cf14-3e57-4522-9f40-fa405558cf71",
   "metadata": {},
   "source": [
    "## t-тест Стьюдента\n",
    "Нулевая гипотеза Hо:μ1 = μ2\n",
    "\n",
    "Альтернативная гипотеза H1:μ1 != μ2"
   ]
  },
  {
   "cell_type": "code",
   "execution_count": 6,
   "id": "f37291f1-647b-4aa9-8de3-96d52988266a",
   "metadata": {},
   "outputs": [
    {
     "data": {
      "text/plain": [
       "Ttest_indResult(statistic=0.7094392041270486, pvalue=0.4780623130874935)"
      ]
     },
     "execution_count": 6,
     "metadata": {},
     "output_type": "execute_result"
    }
   ],
   "source": [
    "stats.ttest_ind(\n",
    "    df[df['exp_group']==1].ctr, \n",
    "    df[df['exp_group']==2].ctr,\n",
    "    equal_var=False)"
   ]
  },
  {
   "cell_type": "markdown",
   "id": "01e29baa-2069-4b15-98b3-11839cf9f00b",
   "metadata": {},
   "source": [
    "#### Значение p-value 0.47 говорит, что мы не можем отклонить гипотезу о равенстве значений 2-х групп\n",
    "#### Сразу появляется интерес, как себя будет вести значение p-value для сглаженного CTR?\n",
    "_________________"
   ]
  },
  {
   "cell_type": "markdown",
   "id": "1b41f320-4f60-4a13-839b-f4b08c46eb7c",
   "metadata": {},
   "source": [
    " ## t-тест на сглаженном CTR"
   ]
  },
  {
   "cell_type": "code",
   "execution_count": 7,
   "id": "f033d450-e0dc-41a8-a143-8269fbd3d0a6",
   "metadata": {},
   "outputs": [],
   "source": [
    " #### формула CTR (likes + global_Ctr * alpha)/(views + alpha)\n",
    "alpha = 5"
   ]
  },
  {
   "cell_type": "code",
   "execution_count": 8,
   "id": "b5c70ca5-c57f-4490-8fea-0e8585da78af",
   "metadata": {},
   "outputs": [
    {
     "data": {
      "text/plain": [
       "(0.20802680490126244, 0.1980601844115994)"
      ]
     },
     "execution_count": 8,
     "metadata": {},
     "output_type": "execute_result"
    }
   ],
   "source": [
    "# Посчитаем global_ctr для каждой группы\n",
    "global_ctr_1 = df[df.exp_group == 1].likes.sum() / df[df.exp_group == 1].views.sum() \n",
    "global_ctr_2 = df[df.exp_group == 2].likes.sum() / df[df.exp_group == 2].views.sum()\n",
    "global_ctr_1, global_ctr_2"
   ]
  },
  {
   "cell_type": "code",
   "execution_count": 9,
   "id": "7b1c5183-8546-4d8a-9f18-2f70da091529",
   "metadata": {},
   "outputs": [],
   "source": [
    "# Напишем функцию для рассчета сглаженного CTR\n",
    "def get_smothed_ctr(user_likes, user_views, global_ctr, alpha):\n",
    "    smothed_ctr = (user_likes + alpha * global_ctr) / (user_views + alpha)\n",
    "    return smothed_ctr"
   ]
  },
  {
   "cell_type": "code",
   "execution_count": 10,
   "id": "d2e664f9-240d-4bf4-a401-29261ab1d2a6",
   "metadata": {},
   "outputs": [],
   "source": [
    "# Выделим отедльно группы 1 и 2\n",
    "group1 = df[df.exp_group == 1].copy()\n",
    "group2 = df[df.exp_group == 2].copy()"
   ]
  },
  {
   "cell_type": "code",
   "execution_count": 11,
   "id": "d1b4e8ed-225c-447a-8960-09591ecc0b70",
   "metadata": {},
   "outputs": [],
   "source": [
    "# Добавим значения сглаженного CTR\n",
    "group1['smothed_ctr'] = df.apply(\n",
    "    lambda x: get_smothed_ctr(x['likes'], x['views'], global_ctr_1, 5), axis=1)"
   ]
  },
  {
   "cell_type": "code",
   "execution_count": 12,
   "id": "350902e1-432f-420f-8f2c-180857938ec6",
   "metadata": {},
   "outputs": [
    {
     "data": {
      "text/html": [
       "<div>\n",
       "<style scoped>\n",
       "    .dataframe tbody tr th:only-of-type {\n",
       "        vertical-align: middle;\n",
       "    }\n",
       "\n",
       "    .dataframe tbody tr th {\n",
       "        vertical-align: top;\n",
       "    }\n",
       "\n",
       "    .dataframe thead th {\n",
       "        text-align: right;\n",
       "    }\n",
       "</style>\n",
       "<table border=\"1\" class=\"dataframe\">\n",
       "  <thead>\n",
       "    <tr style=\"text-align: right;\">\n",
       "      <th></th>\n",
       "      <th>exp_group</th>\n",
       "      <th>user_id</th>\n",
       "      <th>likes</th>\n",
       "      <th>views</th>\n",
       "      <th>ctr</th>\n",
       "      <th>smothed_ctr</th>\n",
       "    </tr>\n",
       "  </thead>\n",
       "  <tbody>\n",
       "    <tr>\n",
       "      <th>5</th>\n",
       "      <td>2</td>\n",
       "      <td>131473</td>\n",
       "      <td>14</td>\n",
       "      <td>134</td>\n",
       "      <td>0.104478</td>\n",
       "      <td>0.107844</td>\n",
       "    </tr>\n",
       "    <tr>\n",
       "      <th>6</th>\n",
       "      <td>2</td>\n",
       "      <td>23985</td>\n",
       "      <td>7</td>\n",
       "      <td>87</td>\n",
       "      <td>0.080460</td>\n",
       "      <td>0.086851</td>\n",
       "    </tr>\n",
       "    <tr>\n",
       "      <th>7</th>\n",
       "      <td>2</td>\n",
       "      <td>24523</td>\n",
       "      <td>11</td>\n",
       "      <td>101</td>\n",
       "      <td>0.108911</td>\n",
       "      <td>0.113116</td>\n",
       "    </tr>\n",
       "    <tr>\n",
       "      <th>8</th>\n",
       "      <td>2</td>\n",
       "      <td>32420</td>\n",
       "      <td>26</td>\n",
       "      <td>128</td>\n",
       "      <td>0.203125</td>\n",
       "      <td>0.202935</td>\n",
       "    </tr>\n",
       "    <tr>\n",
       "      <th>9</th>\n",
       "      <td>2</td>\n",
       "      <td>24239</td>\n",
       "      <td>40</td>\n",
       "      <td>90</td>\n",
       "      <td>0.444444</td>\n",
       "      <td>0.431477</td>\n",
       "    </tr>\n",
       "    <tr>\n",
       "      <th>...</th>\n",
       "      <td>...</td>\n",
       "      <td>...</td>\n",
       "      <td>...</td>\n",
       "      <td>...</td>\n",
       "      <td>...</td>\n",
       "      <td>...</td>\n",
       "    </tr>\n",
       "    <tr>\n",
       "      <th>20023</th>\n",
       "      <td>2</td>\n",
       "      <td>16512</td>\n",
       "      <td>1</td>\n",
       "      <td>15</td>\n",
       "      <td>0.066667</td>\n",
       "      <td>0.099515</td>\n",
       "    </tr>\n",
       "    <tr>\n",
       "      <th>20025</th>\n",
       "      <td>2</td>\n",
       "      <td>17146</td>\n",
       "      <td>0</td>\n",
       "      <td>10</td>\n",
       "      <td>0.000000</td>\n",
       "      <td>0.066020</td>\n",
       "    </tr>\n",
       "    <tr>\n",
       "      <th>20028</th>\n",
       "      <td>2</td>\n",
       "      <td>25383</td>\n",
       "      <td>42</td>\n",
       "      <td>127</td>\n",
       "      <td>0.330709</td>\n",
       "      <td>0.325684</td>\n",
       "    </tr>\n",
       "    <tr>\n",
       "      <th>20029</th>\n",
       "      <td>2</td>\n",
       "      <td>139020</td>\n",
       "      <td>24</td>\n",
       "      <td>114</td>\n",
       "      <td>0.210526</td>\n",
       "      <td>0.210003</td>\n",
       "    </tr>\n",
       "    <tr>\n",
       "      <th>20030</th>\n",
       "      <td>2</td>\n",
       "      <td>17310</td>\n",
       "      <td>9</td>\n",
       "      <td>82</td>\n",
       "      <td>0.109756</td>\n",
       "      <td>0.114831</td>\n",
       "    </tr>\n",
       "  </tbody>\n",
       "</table>\n",
       "<p>9952 rows × 6 columns</p>\n",
       "</div>"
      ],
      "text/plain": [
       "       exp_group  user_id  likes  views       ctr  smothed_ctr\n",
       "5              2   131473     14    134  0.104478     0.107844\n",
       "6              2    23985      7     87  0.080460     0.086851\n",
       "7              2    24523     11    101  0.108911     0.113116\n",
       "8              2    32420     26    128  0.203125     0.202935\n",
       "9              2    24239     40     90  0.444444     0.431477\n",
       "...          ...      ...    ...    ...       ...          ...\n",
       "20023          2    16512      1     15  0.066667     0.099515\n",
       "20025          2    17146      0     10  0.000000     0.066020\n",
       "20028          2    25383     42    127  0.330709     0.325684\n",
       "20029          2   139020     24    114  0.210526     0.210003\n",
       "20030          2    17310      9     82  0.109756     0.114831\n",
       "\n",
       "[9952 rows x 6 columns]"
      ]
     },
     "execution_count": 12,
     "metadata": {},
     "output_type": "execute_result"
    }
   ],
   "source": [
    "group2['smothed_ctr'] = df.apply(\n",
    "    lambda x: get_smothed_ctr(x['likes'], x['views'], global_ctr_2, 5), axis=1)\n",
    "group2"
   ]
  },
  {
   "cell_type": "code",
   "execution_count": 13,
   "id": "25f42561-fa01-46fa-bf29-aae2cd69b29b",
   "metadata": {},
   "outputs": [
    {
     "data": {
      "text/plain": [
       "<AxesSubplot:xlabel='smothed_ctr', ylabel='Count'>"
      ]
     },
     "execution_count": 13,
     "metadata": {},
     "output_type": "execute_result"
    },
    {
     "data": {
      "image/png": "[encoded data removed]",
      "text/plain": [
       "<Figure size 842.4x595.44 with 1 Axes>"
      ]
     },
     "metadata": {},
     "output_type": "display_data"
    }
   ],
   "source": [
    "# Посмотрим, изменились ли графики\n",
    "sns.histplot(data = group1,\n",
    "             x='smothed_ctr',\n",
    "             kde = False,\n",
    "             hue='exp_group')\n",
    "sns.histplot(data = group2,\n",
    "             x='smothed_ctr',\n",
    "             kde = False,\n",
    "             hue='exp_group')\n",
    "\n",
    "# Графики немного сгладились"
   ]
  },
  {
   "cell_type": "code",
   "execution_count": 14,
   "id": "141ff72c-eca1-4305-8d07-6a2a0304fe08",
   "metadata": {},
   "outputs": [
    {
     "data": {
      "text/plain": [
       "Ttest_indResult(statistic=2.2841320431616983, pvalue=0.0223769815558559)"
      ]
     },
     "execution_count": 14,
     "metadata": {},
     "output_type": "execute_result"
    }
   ],
   "source": [
    "stats.ttest_ind(group1.smothed_ctr,group2.smothed_ctr,equal_var=False)"
   ]
  },
  {
   "cell_type": "markdown",
   "id": "6c667e9d-6210-4c1a-af16-4b58694d6fee",
   "metadata": {},
   "source": [
    "#### А вот и интересный результат! При проведении теста со сглаженным p-value мы вполне могли бы позволить себе отклонить нулевую гипотезу!\n",
    "_________________"
   ]
  },
  {
   "cell_type": "markdown",
   "id": "0231399f-8289-4395-a314-635c2ef2d2f1",
   "metadata": {},
   "source": [
    "## Тест Манна-Уитни"
   ]
  },
  {
   "cell_type": "code",
   "execution_count": 15,
   "id": "fff9e869-e073-41dd-b420-a4defee861e9",
   "metadata": {},
   "outputs": [
    {
     "data": {
      "text/plain": [
       "MannwhitneyuResult(statistic=56601260.5, pvalue=6.0376484617779035e-56)"
      ]
     },
     "execution_count": 15,
     "metadata": {},
     "output_type": "execute_result"
    }
   ],
   "source": [
    "stats.mannwhitneyu(df[df.exp_group == 1].ctr, \n",
    "                   df[df.exp_group == 2].ctr,\n",
    "                   alternative = 'two-sided')"
   ]
  },
  {
   "cell_type": "markdown",
   "id": "3261ba4e-5ef2-4306-a2eb-c5699f695181",
   "metadata": {},
   "source": [
    "### Тест Манна-Уитни позволяет нам отклонить нулевую гипотезу\n",
    "____________"
   ]
  },
  {
   "cell_type": "markdown",
   "id": "94417fdc-dc19-4221-8597-e1b2f752fbfd",
   "metadata": {},
   "source": [
    "## Пуассоновский бутстреп"
   ]
  },
  {
   "cell_type": "code",
   "execution_count": 16,
   "id": "886b0ff0-e7ef-4be3-96b7-4ebd5f788bfe",
   "metadata": {},
   "outputs": [],
   "source": [
    "# Напишем функцию для рассчета бутстрэпа\n",
    "def bootstrap(likes1, views1, likes2, views2, n_bootstrap=2000):\n",
    "\n",
    "    poisson_bootstraps1 = stats.poisson(1).rvs(\n",
    "        (n_bootstrap, len(likes1))).astype(np.int64)\n",
    "\n",
    "    poisson_bootstraps2 = stats.poisson(1).rvs(\n",
    "            (n_bootstrap, len(likes2))).astype(np.int64)\n",
    "    \n",
    "    globalCTR1 = (poisson_bootstraps1*likes1).sum(axis=1)/(poisson_bootstraps1*views1).sum(axis=1)\n",
    "    \n",
    "    globalCTR2 = (poisson_bootstraps2*likes2).sum(axis=1)/(poisson_bootstraps2*views2).sum(axis=1)\n",
    "\n",
    "    return globalCTR1, globalCTR2\n"
   ]
  },
  {
   "cell_type": "code",
   "execution_count": 17,
   "id": "df26fd53-7192-46a4-992b-09b5a83bd0f6",
   "metadata": {},
   "outputs": [],
   "source": [
    "# Посчитаем лайки и просмотры\n",
    "likes1 = df[df.exp_group == 1].likes.to_numpy()\n",
    "views1 = df[df.exp_group == 1].views.to_numpy()\n",
    "likes2 = df[df.exp_group == 2].likes.to_numpy()\n",
    "views2 = df[df.exp_group == 2].views.to_numpy()"
   ]
  },
  {
   "cell_type": "code",
   "execution_count": 18,
   "id": "ab8babcd-77b9-41b6-87d5-d416b066695c",
   "metadata": {},
   "outputs": [],
   "source": [
    "# Запустим функцию\n",
    "ctr1, ctr2 = bootstrap(likes1, views1, likes2, views2)"
   ]
  },
  {
   "cell_type": "code",
   "execution_count": 19,
   "id": "3326371d-b435-468c-ba3d-594f48912442",
   "metadata": {},
   "outputs": [
    {
     "data": {
      "text/plain": [
       "<AxesSubplot:ylabel='Count'>"
      ]
     },
     "execution_count": 19,
     "metadata": {},
     "output_type": "execute_result"
    },
    {
     "data": {
      "image/png": "[encoded data removed]",
      "text/plain": [
       "<Figure size 842.4x595.44 with 1 Axes>"
      ]
     },
     "metadata": {},
     "output_type": "display_data"
    }
   ],
   "source": [
    "# Визуализируем результат\n",
    "sns.histplot(ctr1, color='b')\n",
    "sns.histplot(ctr2,color='r')"
   ]
  },
  {
   "cell_type": "markdown",
   "id": "4a7b1088-d076-4395-a799-3dabbb8ab8ec",
   "metadata": {},
   "source": [
    "#### Так как распределения глобальных CTR не пересекаются, то есть p-value равно 0, что говорит нам о возможности отклонгить нулевую гипотезу об их равенстве. Также глобальный CTR контрольной группы выше, нежели тестовой.\n",
    "#### Необходимо проверить себя. Посчитаем разницу глобальных STR."
   ]
  },
  {
   "cell_type": "code",
   "execution_count": 20,
   "id": "7bc4c4ad-8241-49a5-b827-53e152d61160",
   "metadata": {},
   "outputs": [
    {
     "data": {
      "text/plain": [
       "<AxesSubplot:ylabel='Count'>"
      ]
     },
     "execution_count": 20,
     "metadata": {},
     "output_type": "execute_result"
    },
    {
     "data": {
      "image/png": "[encoded data removed]",
      "text/plain": [
       "<Figure size 842.4x595.44 with 1 Axes>"
      ]
     },
     "metadata": {},
     "output_type": "display_data"
    }
   ],
   "source": [
    "sns.histplot(ctr1 - ctr2)"
   ]
  },
  {
   "cell_type": "markdown",
   "id": "483afbdb-b758-4466-b5fa-7fbd73658fe4",
   "metadata": {},
   "source": [
    "#### Наш график показал, что глобальный CTR первой группы строго больше 0 и точно не пересекается с тестовой группой. Следовательно, можно сделать вывод, что тестовая группа показала худший результат по сравнению с контрольной. \n",
    "______________________"
   ]
  },
  {
   "cell_type": "markdown",
   "id": "bfad0ef6-c634-4bcc-b6d4-1c9c24ac2590",
   "metadata": {},
   "source": [
    "## Бакетное преобразование"
   ]
  },
  {
   "cell_type": "code",
   "execution_count": 21,
   "id": "ac4c9b9f-edd3-4e14-9dae-2629cb06208e",
   "metadata": {},
   "outputs": [
    {
     "data": {
      "text/html": [
       "<div>\n",
       "<style scoped>\n",
       "    .dataframe tbody tr th:only-of-type {\n",
       "        vertical-align: middle;\n",
       "    }\n",
       "\n",
       "    .dataframe tbody tr th {\n",
       "        vertical-align: top;\n",
       "    }\n",
       "\n",
       "    .dataframe thead th {\n",
       "        text-align: right;\n",
       "    }\n",
       "</style>\n",
       "<table border=\"1\" class=\"dataframe\">\n",
       "  <thead>\n",
       "    <tr style=\"text-align: right;\">\n",
       "      <th></th>\n",
       "      <th>exp_group</th>\n",
       "      <th>bucket</th>\n",
       "      <th>bucket_ctr</th>\n",
       "    </tr>\n",
       "  </thead>\n",
       "  <tbody>\n",
       "    <tr>\n",
       "      <th>0</th>\n",
       "      <td>1</td>\n",
       "      <td>0</td>\n",
       "      <td>0.196481</td>\n",
       "    </tr>\n",
       "    <tr>\n",
       "      <th>1</th>\n",
       "      <td>2</td>\n",
       "      <td>0</td>\n",
       "      <td>0.194262</td>\n",
       "    </tr>\n",
       "    <tr>\n",
       "      <th>2</th>\n",
       "      <td>1</td>\n",
       "      <td>1</td>\n",
       "      <td>0.211887</td>\n",
       "    </tr>\n",
       "    <tr>\n",
       "      <th>3</th>\n",
       "      <td>2</td>\n",
       "      <td>1</td>\n",
       "      <td>0.215328</td>\n",
       "    </tr>\n",
       "    <tr>\n",
       "      <th>4</th>\n",
       "      <td>1</td>\n",
       "      <td>2</td>\n",
       "      <td>0.206271</td>\n",
       "    </tr>\n",
       "  </tbody>\n",
       "</table>\n",
       "</div>"
      ],
      "text/plain": [
       "   exp_group  bucket  bucket_ctr\n",
       "0          1       0    0.196481\n",
       "1          2       0    0.194262\n",
       "2          1       1    0.211887\n",
       "3          2       1    0.215328\n",
       "4          1       2    0.206271"
      ]
     },
     "execution_count": 21,
     "metadata": {},
     "output_type": "execute_result"
    }
   ],
   "source": [
    "# Сделаем запрос в ClickHouse для баскетного преобразования\n",
    "\n",
    "q = \"\"\"\n",
    "\n",
    "SELECT exp_group,bucket,\n",
    "    sum(likes)/sum(views) as bucket_ctr\n",
    "FROM (SELECT exp_group, \n",
    "        xxHash64(user_id)%50 as bucket,\n",
    "        user_id,\n",
    "        sum(action = 'like') as likes,\n",
    "        sum(action = 'view') as views,\n",
    "        likes/views as ctr\n",
    "    FROM {db}.feed_actions \n",
    "    WHERE toDate(time) between '2022-12-02' and '2022-12-08'\n",
    "        and exp_group in (1,2)\n",
    "    GROUP BY exp_group,bucket, user_id)\n",
    "GROUP BY exp_group, bucket\n",
    "\"\"\"\n",
    "\n",
    "bucket_df = ph.read_clickhouse(q, connection=connection)\n",
    "bucket_df.head()"
   ]
  },
  {
   "cell_type": "code",
   "execution_count": 22,
   "id": "bcc938a6-b49c-4df6-9f8b-14e64259efd6",
   "metadata": {},
   "outputs": [
    {
     "name": "stderr",
     "output_type": "stream",
     "text": [
      "/nfs/env/lib/python3.8/site-packages/seaborn/distributions.py:2557: FutureWarning: `distplot` is a deprecated function and will be removed in a future version. Please adapt your code to use either `displot` (a figure-level function with similar flexibility) or `histplot` (an axes-level function for histograms).\n",
      "  warnings.warn(msg, FutureWarning)\n"
     ]
    },
    {
     "data": {
      "text/plain": [
       "<AxesSubplot:xlabel='bucket_ctr', ylabel='Density'>"
      ]
     },
     "execution_count": 22,
     "metadata": {},
     "output_type": "execute_result"
    },
    {
     "data": {
      "image/png": "[encoded data removed]",
      "text/plain": [
       "<Figure size 842.4x595.44 with 1 Axes>"
      ]
     },
     "metadata": {},
     "output_type": "display_data"
    }
   ],
   "source": [
    "sns.distplot(bucket_df[bucket_df.exp_group == 1].bucket_ctr)"
   ]
  },
  {
   "cell_type": "code",
   "execution_count": 23,
   "id": "45c0061b-a2c5-4b03-b1cd-227f08d001c9",
   "metadata": {},
   "outputs": [
    {
     "name": "stderr",
     "output_type": "stream",
     "text": [
      "/nfs/env/lib/python3.8/site-packages/seaborn/distributions.py:2557: FutureWarning: `distplot` is a deprecated function and will be removed in a future version. Please adapt your code to use either `displot` (a figure-level function with similar flexibility) or `histplot` (an axes-level function for histograms).\n",
      "  warnings.warn(msg, FutureWarning)\n"
     ]
    },
    {
     "data": {
      "text/plain": [
       "<AxesSubplot:xlabel='bucket_ctr', ylabel='Density'>"
      ]
     },
     "execution_count": 23,
     "metadata": {},
     "output_type": "execute_result"
    },
    {
     "data": {
      "image/png": "[encoded data removed]",
      "text/plain": [
       "<Figure size 842.4x595.44 with 1 Axes>"
      ]
     },
     "metadata": {},
     "output_type": "display_data"
    }
   ],
   "source": [
    "sns.distplot(bucket_df[bucket_df.exp_group == 2].bucket_ctr)"
   ]
  },
  {
   "cell_type": "markdown",
   "id": "2766093e-b2db-40af-a55c-23fa8ada8f60",
   "metadata": {},
   "source": [
    "#### В целом, распределения близки к нормальным. Проведем t-test и тест Манна-Уитни."
   ]
  },
  {
   "cell_type": "code",
   "execution_count": 24,
   "id": "d018bd61-442f-4d2b-a75a-ec2625b7882f",
   "metadata": {},
   "outputs": [
    {
     "data": {
      "text/plain": [
       "Ttest_indResult(statistic=5.668234732053979, pvalue=3.4455951649945907e-07)"
      ]
     },
     "execution_count": 24,
     "metadata": {},
     "output_type": "execute_result"
    }
   ],
   "source": [
    "stats.ttest_ind(bucket_df[bucket_df.exp_group == 1].bucket_ctr, \n",
    "                   bucket_df[bucket_df.exp_group == 2].bucket_ctr, \n",
    "                   equal_var = False)"
   ]
  },
  {
   "cell_type": "code",
   "execution_count": 25,
   "id": "617791d9-be73-4b2a-ab1c-058069f2c185",
   "metadata": {},
   "outputs": [
    {
     "data": {
      "text/plain": [
       "MannwhitneyuResult(statistic=1995.0, pvalue=2.859963936492646e-07)"
      ]
     },
     "execution_count": 25,
     "metadata": {},
     "output_type": "execute_result"
    }
   ],
   "source": [
    "stats.mannwhitneyu(bucket_df[bucket_df.exp_group == 1].bucket_ctr, \n",
    "                   bucket_df[bucket_df.exp_group == 2].bucket_ctr, \n",
    "                   alternative = 'two-sided')"
   ]
  },
  {
   "cell_type": "markdown",
   "id": "e3a7adde-a719-4101-9344-ee8d4b2c4c7f",
   "metadata": {},
   "source": [
    "#### p-value в обоих случаях сильно меньше 0.05, что позволяет нам отклонить нулевую гипотезу\n",
    "_______________"
   ]
  },
  {
   "cell_type": "markdown",
   "id": "665faf18-1837-4662-a421-3cdacaf81124",
   "metadata": {},
   "source": [
    "### Исходя из проведенных А/В тестов можно сделать следующие выводы:\n",
    "#### При проведении t-тестов Стьюдента как с обычным CTR, так и со сглаженным данные контрольной группы оказались бимодальными и не похожими на нормальное распределение. \n",
    "#### В остальных тестах p-value оказалось меньше значения 0.05, что позволило нам отменить нулевую гипотезу.\n",
    "#### Я бы остановился на наметоде Пуассоновского бутстрепа, т.к. он менее чувствителен к выбросам данных. \n",
    "#### Также можно посмотреть, какие могут быть различия лайков и просмотров в наших группах."
   ]
  },
  {
   "cell_type": "code",
   "execution_count": 29,
   "id": "34638074-7340-4538-a6c9-858bec3643bd",
   "metadata": {},
   "outputs": [
    {
     "name": "stdout",
     "output_type": "stream",
     "text": [
      "Количество просмотров контрольной группы выше, чем у тестовой на 9926\n"
     ]
    }
   ],
   "source": [
    "views_diff = df[df['exp_group']==1].views.sum() - df[df['exp_group']==2].views.sum()\n",
    "print ('Количество просмотров контрольной группы выше, чем у тестовой на', views_diff)"
   ]
  },
  {
   "cell_type": "code",
   "execution_count": 45,
   "id": "c280d9ab-9f43-4c9f-8dda-a69a8070d2f1",
   "metadata": {},
   "outputs": [
    {
     "data": {
      "text/plain": [
       "<AxesSubplot:xlabel='views', ylabel='Count'>"
      ]
     },
     "execution_count": 45,
     "metadata": {},
     "output_type": "execute_result"
    },
    {
     "data": {
      "image/png": "[encoded data removed]",
      "text/plain": [
       "<Figure size 842.4x595.44 with 1 Axes>"
      ]
     },
     "metadata": {},
     "output_type": "display_data"
    }
   ],
   "source": [
    "sns.histplot(df[df.exp_group == 1].views, color='b')\n",
    "sns.histplot(df[df.exp_group == 2].views, color='r')"
   ]
  },
  {
   "cell_type": "code",
   "execution_count": 30,
   "id": "7641c858-f69e-4e8d-a9da-166dad6dcbd0",
   "metadata": {},
   "outputs": [
    {
     "name": "stdout",
     "output_type": "stream",
     "text": [
      "Количество лайков контрольной группы выше, чем у тестовой на 8626\n"
     ]
    }
   ],
   "source": [
    "likes_diff = df[df['exp_group']==1].likes.sum() - df[df['exp_group']==2].likes.sum()\n",
    "print ('Количество лайков контрольной группы выше, чем у тестовой на', likes_diff)"
   ]
  },
  {
   "cell_type": "code",
   "execution_count": 44,
   "id": "30e2baa0-2381-4459-be79-63557a96599c",
   "metadata": {},
   "outputs": [
    {
     "data": {
      "text/plain": [
       "<AxesSubplot:xlabel='likes', ylabel='Count'>"
      ]
     },
     "execution_count": 44,
     "metadata": {},
     "output_type": "execute_result"
    },
    {
     "data": {
      "image/png": "[encoded data removed]",
      "text/plain": [
       "<Figure size 842.4x595.44 with 1 Axes>"
      ]
     },
     "metadata": {},
     "output_type": "display_data"
    }
   ],
   "source": [
    "sns.histplot(df[df.exp_group == 1].likes, color='b')\n",
    "\n",
    "sns.histplot(df[df.exp_group == 2].likes, color='r')"
   ]
  },
  {
   "cell_type": "code",
   "execution_count": 43,
   "id": "5475b294-108c-4ee7-8849-d9b98bd69bfa",
   "metadata": {},
   "outputs": [
    {
     "name": "stdout",
     "output_type": "stream",
     "text": [
      "Среднее значение CTR в контрольной группе 0.22\n",
      "Среднее значение CTR в тестовой группе 0.21\n"
     ]
    }
   ],
   "source": [
    "print ('Среднее значение CTR в контрольной группе', df[df['exp_group']==1].ctr.mean().round(2))\n",
    "print('Среднее значение CTR в тестовой группе', df[df['exp_group']==2].ctr.mean().round(2))"
   ]
  },
  {
   "cell_type": "markdown",
   "id": "64c4954b-5372-41fe-8194-8f665edaa7ac",
   "metadata": {},
   "source": [
    "#### Пользователи не охотно пользуются новой фичей приложения, т.к. упали как лайки, так и просмотры, хотя средние значение CTR осталисб неизменными.\n",
    "#### Судя по графикам, в контрольной группе были выборосы лайков, и наша фича позволила пользователям лайкать именно то, что им нравится.\n",
    "#### Я бы посоветовал не выкатывать новую фичу, если мы рассчитываем на увеличение CTR, т.к. его среднее значение, хоть и не существенно, но оказалось меньше, чем у контрольной группы."
   ]
  }
 ],
 "metadata": {
  "kernelspec": {
   "display_name": "Python 3 (ipykernel)",
   "language": "python",
   "name": "python3"
  },
  "language_info": {
   "codemirror_mode": {
    "name": "ipython",
    "version": 3
   },
   "file_extension": ".py",
   "mimetype": "text/x-python",
   "name": "python",
   "nbconvert_exporter": "python",
   "pygments_lexer": "ipython3",
   "version": "3.8.10"
  }
 },
 "nbformat": 4,
 "nbformat_minor": 5
}
