{
 "cells": [
  {
   "cell_type": "markdown",
   "id": "062517cd-fb79-43b7-9c8a-2a14ba35960a",
   "metadata": {},
   "source": [
    "### У нас есть данные АА-теста с '2022-11-25' по '2022-12-01'.\n",
    "### Нужно сделать симуляцию, как будто мы провели 10000 АА-тестов. На каждой итерации нужно сформировать подвыборки без повторения в 500 юзеров из 2 и 3 экспериментальной группы. Провести сравнение этих подвыборок t-testом.\n",
    "\n",
    "1. Построить гистограмму распределения получившихся 10000 p-values.\n",
    "\n",
    "2. Посчитать, какой процент p values оказался меньше либо равен 0.05\n",
    "\n",
    "3. Написать вывод по проведенному АА-тесту, корректно ли работает наша система сплитования.\n",
    "\n",
    "4. Пришлите ссылку на merge request c проведенным анализом."
   ]
  },
  {
   "cell_type": "code",
   "execution_count": 5,
   "id": "7b31e9ed-f381-44e5-8186-db5850367a12",
   "metadata": {},
   "outputs": [],
   "source": [
    "import pandas as pd\n",
    "import pandahouse as ph\n",
    "import numpy as np\n",
    "import seaborn as sns\n",
    "import matplotlib as plt\n",
    "from scipy import stats\n",
    "from tqdm import tqdm"
   ]
  },
  {
   "cell_type": "code",
   "execution_count": 6,
   "id": "e45eaf3d-5999-454b-adaa-be4c095e70e7",
   "metadata": {},
   "outputs": [],
   "source": [
    "connection = {'host': 'https://clickhouse.lab.karpov.courses',\n",
    "                      'database':'simulator_20221220',\n",
    "                      'user':'student', \n",
    "                      'password':'dpo_python_2020'\n",
    "                     }"
   ]
  },
  {
   "cell_type": "code",
   "execution_count": 7,
   "id": "d22f18b5-076d-4352-a453-071121bac018",
   "metadata": {},
   "outputs": [
    {
     "data": {
      "text/html": [
       "<div>\n",
       "<style scoped>\n",
       "    .dataframe tbody tr th:only-of-type {\n",
       "        vertical-align: middle;\n",
       "    }\n",
       "\n",
       "    .dataframe tbody tr th {\n",
       "        vertical-align: top;\n",
       "    }\n",
       "\n",
       "    .dataframe thead th {\n",
       "        text-align: right;\n",
       "    }\n",
       "</style>\n",
       "<table border=\"1\" class=\"dataframe\">\n",
       "  <thead>\n",
       "    <tr style=\"text-align: right;\">\n",
       "      <th></th>\n",
       "      <th>exp_group</th>\n",
       "      <th>user_id</th>\n",
       "      <th>likes</th>\n",
       "      <th>views</th>\n",
       "      <th>ctr</th>\n",
       "    </tr>\n",
       "  </thead>\n",
       "  <tbody>\n",
       "    <tr>\n",
       "      <th>0</th>\n",
       "      <td>3</td>\n",
       "      <td>115383</td>\n",
       "      <td>11</td>\n",
       "      <td>36</td>\n",
       "      <td>0.305556</td>\n",
       "    </tr>\n",
       "    <tr>\n",
       "      <th>1</th>\n",
       "      <td>3</td>\n",
       "      <td>123580</td>\n",
       "      <td>15</td>\n",
       "      <td>92</td>\n",
       "      <td>0.163043</td>\n",
       "    </tr>\n",
       "    <tr>\n",
       "      <th>2</th>\n",
       "      <td>2</td>\n",
       "      <td>131473</td>\n",
       "      <td>26</td>\n",
       "      <td>148</td>\n",
       "      <td>0.175676</td>\n",
       "    </tr>\n",
       "    <tr>\n",
       "      <th>3</th>\n",
       "      <td>2</td>\n",
       "      <td>23985</td>\n",
       "      <td>12</td>\n",
       "      <td>66</td>\n",
       "      <td>0.181818</td>\n",
       "    </tr>\n",
       "    <tr>\n",
       "      <th>4</th>\n",
       "      <td>2</td>\n",
       "      <td>24523</td>\n",
       "      <td>17</td>\n",
       "      <td>120</td>\n",
       "      <td>0.141667</td>\n",
       "    </tr>\n",
       "  </tbody>\n",
       "</table>\n",
       "</div>"
      ],
      "text/plain": [
       "   exp_group  user_id  likes  views       ctr\n",
       "0          3   115383     11     36  0.305556\n",
       "1          3   123580     15     92  0.163043\n",
       "2          2   131473     26    148  0.175676\n",
       "3          2    23985     12     66  0.181818\n",
       "4          2    24523     17    120  0.141667"
      ]
     },
     "execution_count": 7,
     "metadata": {},
     "output_type": "execute_result"
    }
   ],
   "source": [
    "q = \"\"\"\n",
    "SELECT exp_group, \n",
    "    user_id,\n",
    "    sum(action = 'like') as likes,\n",
    "    sum(action = 'view') as views,\n",
    "    likes/views as ctr\n",
    "FROM {db}.feed_actions \n",
    "WHERE toDate(time) >= '2022-11-25' and toDate(time) <= '2022-12-01' \n",
    "    and exp_group in (2,3)\n",
    "GROUP BY exp_group, user_id\n",
    "\"\"\"\n",
    "df=ph.read_clickhouse(q, connection=connection)\n",
    "df.head()   "
   ]
  },
  {
   "cell_type": "markdown",
   "id": "f2058e24-9af5-4e35-8555-3b70301ec63d",
   "metadata": {},
   "source": [
    "### Напишем функцию для запуска 10 000 симуляций А/А тестов, создания подвыборки из 500 пользователей, запуска t теста и вывода гистограммы."
   ]
  },
  {
   "cell_type": "code",
   "execution_count": 31,
   "id": "7bc79a95-d2d8-4892-9c68-eaea6cbc8a7f",
   "metadata": {},
   "outputs": [
    {
     "data": {
      "text/plain": [
       "<AxesSubplot:>"
      ]
     },
     "execution_count": 31,
     "metadata": {},
     "output_type": "execute_result"
    },
    {
     "data": {
      "image/png": "[encoded data removed]",
      "text/plain": [
       "<Figure size 432x288 with 1 Axes>"
      ]
     },
     "metadata": {
      "needs_background": "light"
     },
     "output_type": "display_data"
    }
   ],
   "source": [
    "p=[]\n",
    "for i in range(10000):\n",
    "    pvalue=stats.ttest_ind(df[df.exp_group == 2].ctr.sample(n=500, replace = False),\n",
    "                df[df.exp_group == 3].ctr.sample(n=500, replace = False),\n",
    "                equal_var=False).pvalue\n",
    "    p.append(pvalue)\n",
    "sns.distplot(p,kde = False)\n",
    "# 1. Создаем пустой список; \n",
    "# 2. Создаем функция с указанием числа симуляций;\n",
    "# 3. Считаем t-тест с подвыборкой 500 в экспериментальных группах 2 и 3;\n",
    "# 4. Добавляем полученные значения в список;\n",
    "# 5. Рисуем гистограмму"
   ]
  },
  {
   "cell_type": "code",
   "execution_count": 32,
   "id": "3b0bf7ef-46c9-46a5-8058-426e29a1a58f",
   "metadata": {},
   "outputs": [
    {
     "data": {
      "text/plain": [
       "4.68"
      ]
     },
     "execution_count": 32,
     "metadata": {},
     "output_type": "execute_result"
    }
   ],
   "source": [
    "# Напишем лямбда-функцию для подсчета процентного количества p-values оказался меньше либо равен 0.05\n",
    "\n",
    "sum(map(lambda x : x<= 0.05, p))/len(p)*100"
   ]
  },
  {
   "cell_type": "markdown",
   "id": "15da5d2e-fad1-4281-b206-43a44ea17647",
   "metadata": {},
   "source": [
    "## Вывод:\n",
    "### Так как расчет количество p-value<0.05 равно около 5% и график распределения близок к нормальному, то можно сделать вывод, что система сплитования работает корректно."
   ]
  }
 ],
 "metadata": {
  "kernelspec": {
   "display_name": "Python 3 (ipykernel)",
   "language": "python",
   "name": "python3"
  },
  "language_info": {
   "codemirror_mode": {
    "name": "ipython",
    "version": 3
   },
   "file_extension": ".py",
   "mimetype": "text/x-python",
   "name": "python",
   "nbconvert_exporter": "python",
   "pygments_lexer": "ipython3",
   "version": "3.8.10"
  }
 },
 "nbformat": 4,
 "nbformat_minor": 5
}
